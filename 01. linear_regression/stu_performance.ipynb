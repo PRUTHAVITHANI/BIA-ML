{
 "cells": [
  {
   "cell_type": "code",
   "execution_count": 1,
   "metadata": {},
   "outputs": [],
   "source": [
    "import pandas as pd\n",
    "import numpy as np\n",
    "import matplotlib.pyplot as plt\n",
    "from sklearn.model_selection import train_test_split\n",
    "from sklearn.linear_model import LinearRegression\n",
    "from sklearn.metrics import mean_squared_error,r2_score"
   ]
  },
  {
   "cell_type": "code",
   "execution_count": 2,
   "metadata": {},
   "outputs": [
    {
     "data": {
      "text/plain": [
       "array([5.48813504, 7.15189366, 6.02763376, 5.44883183, 4.23654799,\n",
       "       6.45894113, 4.37587211, 8.91773001, 9.63662761, 3.83441519,\n",
       "       7.91725038, 5.2889492 , 5.68044561, 9.25596638, 0.71036058,\n",
       "       0.871293  , 0.20218397, 8.32619846, 7.78156751, 8.70012148,\n",
       "       9.78618342, 7.99158564, 4.61479362, 7.80529176, 1.18274426,\n",
       "       6.39921021, 1.43353287, 9.44668917, 5.21848322, 4.1466194 ,\n",
       "       2.64555612, 7.74233689, 4.56150332, 5.68433949, 0.187898  ,\n",
       "       6.17635497, 6.12095723, 6.16933997, 9.43748079, 6.81820299,\n",
       "       3.59507901, 4.37031954, 6.97631196, 0.60225472, 6.66766715,\n",
       "       6.7063787 , 2.10382561, 1.28926298, 3.15428351, 3.63710771,\n",
       "       5.7019677 , 4.38601513, 9.88373838, 1.02044811, 2.08876756,\n",
       "       1.61309518, 6.53108325, 2.53291603, 4.66310773, 2.44425592,\n",
       "       1.58969584, 1.10375141, 6.56329589, 1.38182951, 1.96582362,\n",
       "       3.68725171, 8.2099323 , 0.97101276, 8.37944907, 0.96098408,\n",
       "       9.76459465, 4.68651202, 9.76761088, 6.0484552 , 7.39263579,\n",
       "       0.39187792, 2.82806963, 1.20196561, 2.96140198, 1.18727719,\n",
       "       3.17983179, 4.14262995, 0.64147496, 6.92472119, 5.66601454,\n",
       "       2.65389491, 5.23248053, 0.93940511, 5.75946496, 9.29296198,\n",
       "       3.18568952, 6.6741038 , 1.31797862, 7.16327204, 2.89406093,\n",
       "       1.83191362, 5.86512935, 0.20107546, 8.28940029, 0.04695476])"
      ]
     },
     "execution_count": 2,
     "metadata": {},
     "output_type": "execute_result"
    }
   ],
   "source": [
    "np.random.seed(0)\n",
    "hours_studied = np.random.uniform(0,10,100)\n",
    "hours_studied"
   ]
  },
  {
   "cell_type": "code",
   "execution_count": 3,
   "metadata": {},
   "outputs": [
    {
     "data": {
      "text/plain": [
       "array([ 75.11037551,  87.56112129,  81.06949368,  74.17167178,\n",
       "        74.15924435,  86.08648401,  74.23691971,  94.22880037,\n",
       "        96.04163278,  71.2809794 ,  88.77989801,  78.88963613,\n",
       "        78.81877801,  98.23310999,  54.2645357 ,  55.76961132,\n",
       "        51.03191991,  95.20273327,  89.16166173,  94.30458614,\n",
       "       102.69721851,  87.26241009,  70.53299812,  90.96525223,\n",
       "        53.56747448,  85.88329344,  56.34042641,  95.73853623,\n",
       "        79.93830014,  73.69412658,  66.96289853,  90.52377379,\n",
       "        71.08506524,  82.24182735,  50.40348328,  82.48668765,\n",
       "        82.49929007,  80.53667966,  98.41556267,  85.9354283 ,\n",
       "        68.72824609,  69.65279611,  85.47803614,  55.66404537,\n",
       "        81.94920005,  83.2326244 ,  59.64882095,  60.14484234,\n",
       "        67.11600706,  69.00046222,  76.97000637,  73.00857406,\n",
       "        98.07002658,  55.16590165,  59.17214565,  59.41834248,\n",
       "        83.80859791,  62.24798262,  74.10755207,  60.03515658,\n",
       "        54.965964  ,  56.39754046,  83.14982646,  58.17921044,\n",
       "        64.59540763,  70.32521751,  89.22401704,  57.08909637,\n",
       "        89.26543055,  53.88175119,  98.68649004,  76.85924553,\n",
       "        97.34854477,  78.58939891,  86.76627392,  50.63243304,\n",
       "        66.39361997,  53.84996504,  62.51207257,  55.06074586,\n",
       "        64.90309407,  74.57221383,  55.10621643,  84.79870845,\n",
       "        75.87920167,  64.9582005 ,  74.16197198,  51.60748334,\n",
       "        81.17338436,  97.0986951 ,  67.77016527,  84.0079743 ,\n",
       "        58.30355434,  84.51430902,  62.40181896,  60.52275714,\n",
       "        77.71882741,  49.62627775,  90.53593645,  50.26973213])"
      ]
     },
     "execution_count": 3,
     "metadata": {},
     "output_type": "execute_result"
    }
   ],
   "source": [
    "exam_scores  = 50 + 5 * hours_studied + np.random.normal(0,2,100)\n",
    "exam_scores"
   ]
  },
  {
   "cell_type": "code",
   "execution_count": 4,
   "metadata": {},
   "outputs": [
    {
     "data": {
      "text/html": [
       "<div>\n",
       "<style scoped>\n",
       "    .dataframe tbody tr th:only-of-type {\n",
       "        vertical-align: middle;\n",
       "    }\n",
       "\n",
       "    .dataframe tbody tr th {\n",
       "        vertical-align: top;\n",
       "    }\n",
       "\n",
       "    .dataframe thead th {\n",
       "        text-align: right;\n",
       "    }\n",
       "</style>\n",
       "<table border=\"1\" class=\"dataframe\">\n",
       "  <thead>\n",
       "    <tr style=\"text-align: right;\">\n",
       "      <th></th>\n",
       "      <th>hours_studied</th>\n",
       "      <th>exam_scores</th>\n",
       "    </tr>\n",
       "  </thead>\n",
       "  <tbody>\n",
       "    <tr>\n",
       "      <th>0</th>\n",
       "      <td>5.488135</td>\n",
       "      <td>75.110376</td>\n",
       "    </tr>\n",
       "    <tr>\n",
       "      <th>1</th>\n",
       "      <td>7.151894</td>\n",
       "      <td>87.561121</td>\n",
       "    </tr>\n",
       "    <tr>\n",
       "      <th>2</th>\n",
       "      <td>6.027634</td>\n",
       "      <td>81.069494</td>\n",
       "    </tr>\n",
       "    <tr>\n",
       "      <th>3</th>\n",
       "      <td>5.448832</td>\n",
       "      <td>74.171672</td>\n",
       "    </tr>\n",
       "    <tr>\n",
       "      <th>4</th>\n",
       "      <td>4.236548</td>\n",
       "      <td>74.159244</td>\n",
       "    </tr>\n",
       "    <tr>\n",
       "      <th>...</th>\n",
       "      <td>...</td>\n",
       "      <td>...</td>\n",
       "    </tr>\n",
       "    <tr>\n",
       "      <th>95</th>\n",
       "      <td>1.831914</td>\n",
       "      <td>60.522757</td>\n",
       "    </tr>\n",
       "    <tr>\n",
       "      <th>96</th>\n",
       "      <td>5.865129</td>\n",
       "      <td>77.718827</td>\n",
       "    </tr>\n",
       "    <tr>\n",
       "      <th>97</th>\n",
       "      <td>0.201075</td>\n",
       "      <td>49.626278</td>\n",
       "    </tr>\n",
       "    <tr>\n",
       "      <th>98</th>\n",
       "      <td>8.289400</td>\n",
       "      <td>90.535936</td>\n",
       "    </tr>\n",
       "    <tr>\n",
       "      <th>99</th>\n",
       "      <td>0.046955</td>\n",
       "      <td>50.269732</td>\n",
       "    </tr>\n",
       "  </tbody>\n",
       "</table>\n",
       "<p>100 rows × 2 columns</p>\n",
       "</div>"
      ],
      "text/plain": [
       "    hours_studied  exam_scores\n",
       "0        5.488135    75.110376\n",
       "1        7.151894    87.561121\n",
       "2        6.027634    81.069494\n",
       "3        5.448832    74.171672\n",
       "4        4.236548    74.159244\n",
       "..            ...          ...\n",
       "95       1.831914    60.522757\n",
       "96       5.865129    77.718827\n",
       "97       0.201075    49.626278\n",
       "98       8.289400    90.535936\n",
       "99       0.046955    50.269732\n",
       "\n",
       "[100 rows x 2 columns]"
      ]
     },
     "execution_count": 4,
     "metadata": {},
     "output_type": "execute_result"
    }
   ],
   "source": [
    "data = pd.DataFrame({'hours_studied' : hours_studied , 'exam_scores' : exam_scores})\n",
    "data"
   ]
  },
  {
   "cell_type": "code",
   "execution_count": 16,
   "metadata": {},
   "outputs": [
    {
     "name": "stdout",
     "output_type": "stream",
     "text": [
      "(80, 1)\n",
      "(20, 1)\n",
      "(80,)\n",
      "(20,)\n"
     ]
    }
   ],
   "source": [
    "# Split the data into training and testing sets (80% training, 20% testing)\n",
    "X = data[['Hours_Studied']]\n",
    "y = data['Exam_Scores']\n",
    "X_train, X_test, y_train, y_test = train_test_split(X, y, test_size=0.2, random_state=42)\n",
    "print(X_train.shape)\n",
    "print(X_test.shape)\n",
    "print(y_train.shape)\n",
    "print(y_test.shape)\n",
    " "
   ]
  },
  {
   "cell_type": "code",
   "execution_count": 7,
   "metadata": {},
   "outputs": [],
   "source": [
    "# Create and train a linear regression model\n",
    "model = LinearRegression()\n",
    "model.fit(X_train, y_train)\n",
    "\n",
    "# Make predictions on the testing data\n",
    "y_pred = model.predict(X_test)"
   ]
  },
  {
   "cell_type": "code",
   "execution_count": 8,
   "metadata": {},
   "outputs": [
    {
     "name": "stdout",
     "output_type": "stream",
     "text": [
      "Mean Squared Error: 3.44\n",
      "R-squared: 0.98\n"
     ]
    }
   ],
   "source": [
    "# Evaluate the model's performance\n",
    "mse = mean_squared_error(y_test, y_pred)\n",
    "r2 = r2_score(y_test, y_pred)\n",
    "\n",
    "print(f'Mean Squared Error: {mse:.2f}')\n",
    "print(f'R-squared: {r2:.2f}')\n"
   ]
  },
  {
   "cell_type": "code",
   "execution_count": 9,
   "metadata": {},
   "outputs": [
    {
     "data": {
      "image/png": "[encoded data removed]",
      "text/plain": [
       "<Figure size 640x480 with 1 Axes>"
      ]
     },
     "metadata": {},
     "output_type": "display_data"
    }
   ],
   "source": [
    "# Plot the regression line and data points\n",
    "plt.scatter(X_test, y_test, color='blue', label='Actual Data')\n",
    "plt.plot(X_test, y_pred, color='red', label='Regression Line', linewidth=2)\n",
    "plt.xlabel('Hours Studied')\n",
    "plt.ylabel('Exam Scores')\n",
    "plt.legend()\n",
    "plt.title('Simple Linear Regression: Hours Studied vs. Exam Scores')\n",
    "plt.show()\n"
   ]
  },
  {
   "cell_type": "code",
   "execution_count": 17,
   "metadata": {},
   "outputs": [
    {
     "name": "stdout",
     "output_type": "stream",
     "text": [
      "Slope (Coefficient): 4.93\n",
      "Intercept: 49.96\n"
     ]
    }
   ],
   "source": [
    "# Interpret the model's coefficients\n",
    "slope = model.coef_[0]\n",
    "intercept = model.intercept_\n",
    "\n",
    "print(f'Slope (Coefficient): {slope:.2f}')\n",
    "print(f'Intercept: {intercept:.2f}')"
   ]
  },
  {
   "cell_type": "code",
   "execution_count": 19,
   "metadata": {},
   "outputs": [
    {
     "name": "stdout",
     "output_type": "stream",
     "text": [
      "Predicted Score: 77.08013369348761\n",
      "Predicted Score: 77.080\n"
     ]
    },
    {
     "name": "stderr",
     "output_type": "stream",
     "text": [
      "c:\\Users\\21it4\\AppData\\Local\\Programs\\Python\\Python312\\Lib\\site-packages\\sklearn\\base.py:493: UserWarning: X does not have valid feature names, but LinearRegression was fitted with feature names\n",
      "  warnings.warn(\n"
     ]
    }
   ],
   "source": [
    "\n",
    "# Predict the score for provided input hours\n",
    "hours = [[5.5]]\n",
    "predicted_score = model.predict(hours)\n",
    "print(f'Predicted Score: {predicted_score[0]}')\n",
    "print(f'Predicted Score: {predicted_score[0]:.3f}')"
   ]
  },
  {
   "cell_type": "code",
   "execution_count": null,
   "metadata": {},
   "outputs": [],
   "source": []
  },
  {
   "cell_type": "code",
   "execution_count": null,
   "metadata": {},
   "outputs": [],
   "source": []
  }
 ],
 "metadata": {
  "kernelspec": {
   "display_name": "Python 3",
   "language": "python",
   "name": "python3"
  },
  "language_info": {
   "codemirror_mode": {
    "name": "ipython",
    "version": 3
   },
   "file_extension": ".py",
   "mimetype": "text/x-python",
   "name": "python",
   "nbconvert_exporter": "python",
   "pygments_lexer": "ipython3",
   "version": "3.12.1"
  }
 },
 "nbformat": 4,
 "nbformat_minor": 2
}
